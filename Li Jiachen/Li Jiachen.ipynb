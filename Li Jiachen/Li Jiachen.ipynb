{
 "cells": [
  {
   "cell_type": "code",
   "execution_count": 1,
   "metadata": {},
   "outputs": [
    {
     "name": "stderr",
     "output_type": "stream",
     "text": [
      "Using TensorFlow backend.\n"
     ]
    }
   ],
   "source": [
    "from keras.datasets import reuters \n",
    "from keras.utils.np_utils import to_categorical\n",
    "from keras import models\n",
    "from keras import layers\n",
    " \n",
    "(train_data, train_labels), (test_data, test_labels) = reuters.load_data(num_words=10000) "
   ]
  },
  {
   "cell_type": "code",
   "execution_count": 2,
   "metadata": {},
   "outputs": [],
   "source": [
    "import numpy as np\n",
    "def vectorize_sequences(sequences,dimension=10000):\n",
    "    results=np.zeros((len(sequences),dimension))\n",
    "    for i,sequence in enumerate(sequences):\n",
    "        results[i,sequence]=1.\n",
    "    return results\n",
    "X_train=vectorize_sequences(train_data)\n",
    "X_test=vectorize_sequences(test_data)"
   ]
  },
  {
   "cell_type": "code",
   "execution_count": 3,
   "metadata": {},
   "outputs": [],
   "source": [
    "one_hot_train_labels = to_categorical(train_labels) \n",
    "one_hot_test_labels = to_categorical(test_labels)"
   ]
  },
  {
   "cell_type": "code",
   "execution_count": 4,
   "metadata": {},
   "outputs": [],
   "source": [
    "model=models.Sequential()\n",
    "model.add(layers.Dense(64,activation='relu',input_shape=(10000,)))\n",
    "model.add(layers.Dense(64, activation='relu')) \n",
    "model.add(layers.Dense(46, activation='softmax'))"
   ]
  },
  {
   "cell_type": "code",
   "execution_count": 5,
   "metadata": {},
   "outputs": [],
   "source": [
    "model.compile(optimizer='rmsprop',loss='categorical_crossentropy',metrics=['accuracy'])"
   ]
  },
  {
   "cell_type": "code",
   "execution_count": 6,
   "metadata": {},
   "outputs": [],
   "source": [
    "X_val = X_train[:1000] \n",
    "partial_X_train = X_train[1000:] \n",
    "\n",
    "Y_val = one_hot_train_labels[:1000]\n",
    "partial_Y_train = one_hot_train_labels[1000:] "
   ]
  },
  {
   "cell_type": "code",
   "execution_count": 7,
   "metadata": {},
   "outputs": [
    {
     "name": "stdout",
     "output_type": "stream",
     "text": [
      "Train on 7982 samples, validate on 1000 samples\n",
      "Epoch 1/9\n",
      "7982/7982 [==============================] - 2s 214us/step - loss: 2.6818 - accuracy: 0.5276 - val_loss: 1.7829 - val_accuracy: 0.6390\n",
      "Epoch 2/9\n",
      "7982/7982 [==============================] - 1s 159us/step - loss: 1.4348 - accuracy: 0.7101 - val_loss: 1.2995 - val_accuracy: 0.7200\n",
      "Epoch 3/9\n",
      "7982/7982 [==============================] - 1s 159us/step - loss: 1.0451 - accuracy: 0.7853 - val_loss: 1.1511 - val_accuracy: 0.7600\n",
      "Epoch 4/9\n",
      "7982/7982 [==============================] - 1s 158us/step - loss: 0.8275 - accuracy: 0.8272 - val_loss: 1.0485 - val_accuracy: 0.7810\n",
      "Epoch 5/9\n",
      "7982/7982 [==============================] - 1s 155us/step - loss: 0.6620 - accuracy: 0.8613 - val_loss: 0.9923 - val_accuracy: 0.7870\n",
      "Epoch 6/9\n",
      "7982/7982 [==============================] - 1s 155us/step - loss: 0.5315 - accuracy: 0.8898 - val_loss: 0.9518 - val_accuracy: 0.8060\n",
      "Epoch 7/9\n",
      "7982/7982 [==============================] - 1s 161us/step - loss: 0.4303 - accuracy: 0.9116 - val_loss: 0.9380 - val_accuracy: 0.8020\n",
      "Epoch 8/9\n",
      "7982/7982 [==============================] - 1s 165us/step - loss: 0.3479 - accuracy: 0.9268 - val_loss: 0.9230 - val_accuracy: 0.8110\n",
      "Epoch 9/9\n",
      "7982/7982 [==============================] - 1s 149us/step - loss: 0.2877 - accuracy: 0.9382 - val_loss: 0.9441 - val_accuracy: 0.8080\n"
     ]
    }
   ],
   "source": [
    "history = model.fit(partial_X_train,                     \n",
    "                    partial_Y_train,                     \n",
    "                    epochs=9,                     \n",
    "                    batch_size=512,\n",
    "                    validation_data=(X_val, Y_val))"
   ]
  },
  {
   "cell_type": "code",
   "execution_count": 8,
   "metadata": {},
   "outputs": [
    {
     "data": {
      "image/png": "[encoded data removed]",
      "text/plain": [
       "<Figure size 432x288 with 1 Axes>"
      ]
     },
     "metadata": {
      "needs_background": "light"
     },
     "output_type": "display_data"
    }
   ],
   "source": [
    "import matplotlib.pyplot as plt \n",
    " \n",
    "loss = history.history['loss'] \n",
    "val_loss = history.history['val_loss'] \n",
    " \n",
    "epochs = range(1, len(loss) + 1) \n",
    " \n",
    "plt.plot(epochs, loss, 'bo', label='Training loss') \n",
    "plt.plot(epochs, val_loss, 'b', label='Validation loss') \n",
    "plt.title('Training and validation loss') \n",
    "plt.xlabel('Epochs') \n",
    "plt.ylabel('Loss') \n",
    "plt.legend() \n",
    " \n",
    "plt.show()"
   ]
  },
  {
   "cell_type": "code",
   "execution_count": 9,
   "metadata": {},
   "outputs": [
    {
     "name": "stdout",
     "output_type": "stream",
     "text": [
      "2246/2246 [==============================] - 0s 217us/step\n",
      "[1.015566471529559, 0.7813891172409058]\n"
     ]
    }
   ],
   "source": [
    "results = model.evaluate(X_test, one_hot_test_labels)\n",
    "print(results)"
   ]
  }
 ],
 "metadata": {
  "kernelspec": {
   "display_name": "Python 3",
   "language": "python",
   "name": "python3"
  },
  "language_info": {
   "codemirror_mode": {
    "name": "ipython",
    "version": 3
   },
   "file_extension": ".py",
   "mimetype": "text/x-python",
   "name": "python",
   "nbconvert_exporter": "python",
   "pygments_lexer": "ipython3",
   "version": "3.6.10"
  }
 },
 "nbformat": 4,
 "nbformat_minor": 4
}
