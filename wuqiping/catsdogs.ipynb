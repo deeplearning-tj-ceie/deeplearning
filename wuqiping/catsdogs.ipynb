{
 "cells": [
  {
   "cell_type": "code",
   "execution_count": 1,
   "metadata": {},
   "outputs": [
    {
     "name": "stderr",
     "output_type": "stream",
     "text": [
      "Using TensorFlow backend.\n"
     ]
    },
    {
     "name": "stdout",
     "output_type": "stream",
     "text": [
      "Model: \"sequential_1\"\n",
      "_________________________________________________________________\n",
      "Layer (type)                 Output Shape              Param #   \n",
      "=================================================================\n",
      "conv2d_1 (Conv2D)            (None, 148, 148, 32)      896       \n",
      "_________________________________________________________________\n",
      "max_pooling2d_1 (MaxPooling2 (None, 74, 74, 32)        0         \n",
      "_________________________________________________________________\n",
      "conv2d_2 (Conv2D)            (None, 72, 72, 64)        18496     \n",
      "_________________________________________________________________\n",
      "max_pooling2d_2 (MaxPooling2 (None, 36, 36, 64)        0         \n",
      "_________________________________________________________________\n",
      "conv2d_3 (Conv2D)            (None, 34, 34, 128)       73856     \n",
      "_________________________________________________________________\n",
      "max_pooling2d_3 (MaxPooling2 (None, 17, 17, 128)       0         \n",
      "_________________________________________________________________\n",
      "conv2d_4 (Conv2D)            (None, 15, 15, 128)       147584    \n",
      "_________________________________________________________________\n",
      "max_pooling2d_4 (MaxPooling2 (None, 7, 7, 128)         0         \n",
      "_________________________________________________________________\n",
      "flatten_1 (Flatten)          (None, 6272)              0         \n",
      "_________________________________________________________________\n",
      "dense_1 (Dense)              (None, 512)               3211776   \n",
      "_________________________________________________________________\n",
      "dense_2 (Dense)              (None, 1)                 513       \n",
      "=================================================================\n",
      "Total params: 3,453,121\n",
      "Trainable params: 3,453,121\n",
      "Non-trainable params: 0\n",
      "_________________________________________________________________\n"
     ]
    }
   ],
   "source": [
    "from keras import layers\n",
    "from keras import models\n",
    "model=models.Sequential()\n",
    "model.add(layers.Conv2D(32,(3,3),activation='relu',input_shape=(150,150,3)))\n",
    "model.add(layers.MaxPooling2D((2,2)))\n",
    "model.add(layers.Conv2D(64,(3,3),activation='relu'))\n",
    "model.add(layers.MaxPooling2D((2,2)))\n",
    "model.add(layers.Conv2D(128,(3,3),activation='relu'))\n",
    "model.add(layers.MaxPooling2D((2,2)))\n",
    "model.add(layers.Conv2D(128,(3,3),activation='relu'))\n",
    "model.add(layers.MaxPooling2D((2,2)))\n",
    "model.add(layers.Flatten())\n",
    "model.add(layers.Dense(512,activation='relu'))\n",
    "model.add(layers.Dense(1,activation='sigmoid'))\n",
    "model.summary()"
   ]
  },
  {
   "cell_type": "code",
   "execution_count": 2,
   "metadata": {
    "collapsed": true
   },
   "outputs": [],
   "source": [
    "from keras import optimizers\n",
    "model.compile(loss='binary_crossentropy',optimizer=optimizers.RMSprop(lr=1e-4),metrics=['acc'])"
   ]
  },
  {
   "cell_type": "code",
   "execution_count": 3,
   "metadata": {},
   "outputs": [
    {
     "name": "stdout",
     "output_type": "stream",
     "text": [
      "Found 2000 images belonging to 2 classes.\n",
      "Found 1000 images belonging to 2 classes.\n"
     ]
    }
   ],
   "source": [
    "train_dir='E:\\\\wuqiping\\\\DeepLearning\\\\PetImages\\\\trainset'\n",
    "validation_dir='E:\\\\wuqiping\\\\DeepLearning\\\\PetImages\\\\validationset'\n",
    "\n",
    "from keras.preprocessing.image import ImageDataGenerator\n",
    "train_datagen=ImageDataGenerator(rescale=1./255)\n",
    "test_datagen=ImageDataGenerator(rescale=1./255)\n",
    "train_generator=train_datagen.flow_from_directory(train_dir,target_size=(150,150),batch_size=20,class_mode='binary')\n",
    "validation_generator=test_datagen.flow_from_directory(validation_dir,target_size=(150,150),batch_size=20,class_mode='binary')"
   ]
  },
  {
   "cell_type": "code",
   "execution_count": 4,
   "metadata": {},
   "outputs": [
    {
     "name": "stdout",
     "output_type": "stream",
     "text": [
      "Epoch 1/30\n",
      "100/100 [==============================] - 61s 606ms/step - loss: 0.6915 - acc: 0.5440 - val_loss: 0.6879 - val_acc: 0.6230\n",
      "Epoch 2/30\n",
      "100/100 [==============================] - 50s 502ms/step - loss: 0.6587 - acc: 0.5990 - val_loss: 0.6082 - val_acc: 0.6310\n",
      "Epoch 3/30\n",
      "100/100 [==============================] - 54s 537ms/step - loss: 0.6174 - acc: 0.6505 - val_loss: 0.5471 - val_acc: 0.6740\n",
      "Epoch 4/30\n",
      "100/100 [==============================] - 53s 526ms/step - loss: 0.5683 - acc: 0.7065 - val_loss: 0.5774 - val_acc: 0.6800\n",
      "Epoch 5/30\n",
      "100/100 [==============================] - 51s 511ms/step - loss: 0.5289 - acc: 0.7310 - val_loss: 0.5448 - val_acc: 0.6800\n",
      "Epoch 6/30\n",
      "100/100 [==============================] - 52s 524ms/step - loss: 0.5060 - acc: 0.7595 - val_loss: 0.6617 - val_acc: 0.6960\n",
      "Epoch 7/30\n",
      "100/100 [==============================] - 56s 562ms/step - loss: 0.4842 - acc: 0.7670 - val_loss: 0.5517 - val_acc: 0.6950\n",
      "Epoch 8/30\n",
      "100/100 [==============================] - 52s 515ms/step - loss: 0.4548 - acc: 0.7870 - val_loss: 0.5239 - val_acc: 0.6840\n",
      "Epoch 9/30\n",
      "100/100 [==============================] - 53s 535ms/step - loss: 0.4292 - acc: 0.8000 - val_loss: 0.6278 - val_acc: 0.6980\n",
      "Epoch 10/30\n",
      "100/100 [==============================] - 56s 556ms/step - loss: 0.3973 - acc: 0.8285 - val_loss: 0.3013 - val_acc: 0.7150\n",
      "Epoch 11/30\n",
      "100/100 [==============================] - 55s 552ms/step - loss: 0.3805 - acc: 0.8405 - val_loss: 0.6239 - val_acc: 0.7240\n",
      "Epoch 12/30\n",
      "100/100 [==============================] - 55s 554ms/step - loss: 0.3546 - acc: 0.8470 - val_loss: 0.9605 - val_acc: 0.7190\n",
      "Epoch 13/30\n",
      "100/100 [==============================] - 60s 597ms/step - loss: 0.3297 - acc: 0.8680 - val_loss: 1.0807 - val_acc: 0.7260\n",
      "Epoch 14/30\n",
      "100/100 [==============================] - 61s 607ms/step - loss: 0.3062 - acc: 0.8800 - val_loss: 1.1236 - val_acc: 0.7190\n",
      "Epoch 15/30\n",
      "100/100 [==============================] - 56s 559ms/step - loss: 0.2781 - acc: 0.8900 - val_loss: 0.3366 - val_acc: 0.7150\n",
      "Epoch 16/30\n",
      "100/100 [==============================] - 55s 548ms/step - loss: 0.2590 - acc: 0.8895 - val_loss: 0.8216 - val_acc: 0.7180\n",
      "Epoch 17/30\n",
      "100/100 [==============================] - 60s 602ms/step - loss: 0.2345 - acc: 0.9115 - val_loss: 0.3463 - val_acc: 0.7280\n",
      "Epoch 18/30\n",
      "100/100 [==============================] - 55s 554ms/step - loss: 0.2224 - acc: 0.9100 - val_loss: 1.0993 - val_acc: 0.7180\n",
      "Epoch 19/30\n",
      "100/100 [==============================] - 58s 580ms/step - loss: 0.1893 - acc: 0.9260 - val_loss: 0.5684 - val_acc: 0.7400\n",
      "Epoch 20/30\n",
      "100/100 [==============================] - 52s 519ms/step - loss: 0.1685 - acc: 0.9430 - val_loss: 0.5432 - val_acc: 0.7320\n",
      "Epoch 21/30\n",
      "100/100 [==============================] - 51s 511ms/step - loss: 0.1530 - acc: 0.9485 - val_loss: 0.3813 - val_acc: 0.7250\n",
      "Epoch 22/30\n",
      "100/100 [==============================] - 51s 509ms/step - loss: 0.1313 - acc: 0.9590 - val_loss: 0.6183 - val_acc: 0.7140\n",
      "Epoch 23/30\n",
      "100/100 [==============================] - 51s 513ms/step - loss: 0.1102 - acc: 0.9670 - val_loss: 0.8929 - val_acc: 0.7160\n",
      "Epoch 24/30\n",
      "100/100 [==============================] - 51s 510ms/step - loss: 0.1005 - acc: 0.9700 - val_loss: 1.5448 - val_acc: 0.7370\n",
      "Epoch 25/30\n",
      "100/100 [==============================] - 52s 518ms/step - loss: 0.0894 - acc: 0.9695 - val_loss: 1.0046 - val_acc: 0.7220\n",
      "Epoch 26/30\n",
      "100/100 [==============================] - 52s 516ms/step - loss: 0.0742 - acc: 0.9745 - val_loss: 0.6383 - val_acc: 0.7250\n",
      "Epoch 27/30\n",
      "100/100 [==============================] - 51s 510ms/step - loss: 0.0646 - acc: 0.9850 - val_loss: 0.8056 - val_acc: 0.7190\n",
      "Epoch 28/30\n",
      "100/100 [==============================] - 53s 531ms/step - loss: 0.0550 - acc: 0.9830 - val_loss: 1.3631 - val_acc: 0.7260\n",
      "Epoch 29/30\n",
      "100/100 [==============================] - 59s 587ms/step - loss: 0.0464 - acc: 0.9875 - val_loss: 1.3224 - val_acc: 0.7210\n",
      "Epoch 30/30\n",
      "100/100 [==============================] - 60s 596ms/step - loss: 0.0394 - acc: 0.9900 - val_loss: 1.2501 - val_acc: 0.6740\n"
     ]
    }
   ],
   "source": [
    "history=model.fit_generator(train_generator,steps_per_epoch=100,epochs=30,validation_data=validation_generator,validation_steps=50)\n",
    "model.save('cats_and_dogs_small_1.h5')"
   ]
  },
  {
   "cell_type": "code",
   "execution_count": 8,
   "metadata": {},
   "outputs": [
    {
     "data": {
      "image/png": "[encoded data removed]",
      "text/plain": [
       "<Figure size 432x288 with 1 Axes>"
      ]
     },
     "metadata": {},
     "output_type": "display_data"
    },
    {
     "data": {
      "image/png": "[encoded data removed]",
      "text/plain": [
       "<Figure size 432x288 with 1 Axes>"
      ]
     },
     "metadata": {},
     "output_type": "display_data"
    }
   ],
   "source": [
    "import matplotlib.pyplot as plt\n",
    "acc=history.history['acc']\n",
    "val_acc=history.history['val_acc']\n",
    "loss=history.history['loss']\n",
    "val_loss=history.history['val_loss']\n",
    "epochs=range(1,len(acc)+1)\n",
    "plt.plot(epochs,acc,'bo',label='Training accuracy')\n",
    "plt.plot(epochs,val_acc,'b',label='Validation accuracy')\n",
    "plt.title('Training and Validation Accuracy')\n",
    "plt.legend()\n",
    "plt.figure()\n",
    "plt.plot(epochs,loss,'ro',label='Training loss')\n",
    "plt.plot(epochs,val_loss,'r',label='Validation loss')\n",
    "plt.title('Training and Validation Loss')\n",
    "plt.legend()\n",
    "plt.show()"
   ]
  },
  {
   "cell_type": "code",
   "execution_count": null,
   "metadata": {
    "collapsed": true
   },
   "outputs": [],
   "source": []
  }
 ],
 "metadata": {
  "kernelspec": {
   "display_name": "Python 3",
   "language": "python",
   "name": "python3"
  },
  "language_info": {
   "codemirror_mode": {
    "name": "ipython",
    "version": 3
   },
   "file_extension": ".py",
   "mimetype": "text/x-python",
   "name": "python",
   "nbconvert_exporter": "python",
   "pygments_lexer": "ipython3",
   "version": "3.5.4"
  }
 },
 "nbformat": 4,
 "nbformat_minor": 4
}
